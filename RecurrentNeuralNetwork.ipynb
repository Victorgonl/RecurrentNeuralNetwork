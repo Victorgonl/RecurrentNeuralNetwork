{
 "cells": [
  {
   "cell_type": "markdown",
   "metadata": {},
   "source": [
    "# Uma breve introdução às Redes Neurais Recorrentes (RNN - Recurrent Neural Network)\n",
    "\n",
    "### Universidade Federal de Lavras\n",
    "\n",
    "##### Agosto de 2022\n",
    "\n",
    "* Elaborado por: Victor Gonçalves Lima\n",
    "\n",
    "* Orientado por: Prof. Denilson Alves Pereira"
   ]
  },
  {
   "cell_type": "markdown",
   "metadata": {},
   "source": [
    "# Dados sequenciais (sequential data):"
   ]
  },
  {
   "cell_type": "markdown",
   "metadata": {},
   "source": [
    "## Propriedades:\n",
    "\n",
    "* A sequência pode conter elementos repetidos\n",
    "\n",
    "* É sensível ao contexto\n",
    "\n",
    "* O tamanho dos dados varia\n",
    "\n",
    "## Exemplos:\n",
    "\n",
    "* Textos\n",
    "\n",
    "* Audio (voz e música)\n",
    "\n",
    "* Vídeos\n",
    "\n",
    "* Séries de dados\n",
    "\n",
    "* Sequência de DNA\n",
    "\n",
    "## Language models\n",
    "\n",
    "* Generative model\n",
    "\n",
    "* N-grams\n",
    "\n",
    "* Context vectorizing"
   ]
  },
  {
   "cell_type": "markdown",
   "metadata": {},
   "source": [
    "# Vetorização de contexto (context vectorizing)"
   ]
  },
  {
   "cell_type": "markdown",
   "metadata": {},
   "source": [
    "* É um método onde os dados da sequência é dividida em um vetor.\n",
    "\n",
    "<img src=\"figs/Context-vectorizing.png\" width=\"400\" title=\"https://neptune.ai/blog/recurrent-neural-network-guide\"/>\n",
    "\n",
    "#### Vantagens:\n",
    "\n",
    "* A ordem é preservada\n",
    "* Funciona para entradas de diferentes tamanhos\n",
    "* Pode ser aplicado ***backpropagation*** e assim aprender\n",
    "* O contexto é presenvado para sentenças curtas ou texto"
   ]
  },
  {
   "cell_type": "markdown",
   "metadata": {},
   "source": [
    "# Arquitetura das Redes Neurais Recorrentes (RNN)"
   ]
  },
  {
   "cell_type": "markdown",
   "metadata": {},
   "source": [
    "* Por conta de suas propriedades, dados sequenciais não funcionam bem com ***feed-forward networks***, que por definição trabalha com entradas de tamanho fixo.\n",
    "\n",
    "* RNNs são modelos usados para trabalhar com ***dados sequenciais*** incorporando a técnica de ***vetorização de contexto***.\n",
    "\n",
    "* A vetorização permite que as RNNs busque informações passadas já calculadas ao longo da sequencia, assim, as RNNs permitem a entrada de múltiplos vetores, produzindo uma mais mais saídas vetoriais.\n",
    "\n",
    "* De uma forma simplificada, RNN são redes neurais com loops, permitindo que as informações anteriores sejam preservadas.\n",
    "\n",
    "<img src=\"figs/RNN-rolled.png\" width=\"150\" title=\"http://colah.github.io/posts/2015-08-Understanding-LSTMs/\"/>\n",
    "\n",
    "* Desenrolando este loop, verificamos que a RNN se apresenta como múltiplas cópias da mesma rede, cada uma passando a informação para um sucessor.\n",
    "\n",
    "<img src=\"figs/RNN-unrolled.png\" width=\"800\" title=\"http://colah.github.io/posts/2015-08-Understanding-LSTMs/\"/>"
   ]
  },
  {
   "cell_type": "markdown",
   "metadata": {},
   "source": [
    "## Time step *t*\n",
    "* Nas RNN, *x(t)* é uma entrada na rede em um paço de tempo *t*, utilizado para indicar a ordem que uma palavra, por exemplo, ocorre na sequência."
   ]
  },
  {
   "cell_type": "markdown",
   "metadata": {},
   "source": [
    "## Hidden state *h(t)*\n",
    "\n",
    "* Um *h(t)* representa um ***vetor contextual*** em um tempo *t* e age como uma \"mémoria\" da rede.\n",
    "\n",
    "* O ***vetor contextual*** *h(t)* é calculado a partir da entrada atual *x(t)* e da entrada em uma unidade de tempo *t* anterior da ***hidden state*** *h(t-1)*.\n",
    "\n",
    "* $h_{t} = tanh(W_{h}h_{t-1} + W_{x}x_{t})$\n",
    "\n",
    "#### Compartilhamento de parâmetros (parameter sharing)\n",
    "\n",
    "* Os parametros $\\{W_{h}, W_{x}, W_{y}\\}$ são constantes para todas as entradas da rede, permitindo que as RNN mantenham a informação contextual mesmo com variações no tamanho da sentança de entrada.\n",
    "\n",
    "<img src=\"figs/Recurrent-neural-network.png\" width=\"200\" title=\"https://neptune.ai/blog/recurrent-neural-network-guide\"/>\n",
    "\n",
    "* RNNs compartilham os mesmos parâmetros por várias unidades de tempo."
   ]
  },
  {
   "cell_type": "markdown",
   "metadata": {},
   "source": [
    "## Predição\n",
    "\n",
    "* A predição de uma RNN será a saída do último ***hiden state*** junto ao parâmetro de saída $W_{y}$\n",
    "\n",
    "* Tal predição é similar a um ***problema de classificação***, e então uma função ***softmax*** é aplicada a fim de prever a saída ideal de acordo com as possiblidades."
   ]
  },
  {
   "cell_type": "markdown",
   "metadata": {},
   "source": [
    "# Treinando RNNs"
   ]
  },
  {
   "cell_type": "markdown",
   "metadata": {},
   "source": [
    "## Computando os gradientes\n",
    "\n",
    "* Durante o ***backpropagation***, a rede deve voltar cada paço de tempo para atualizar os parâmetros.\n",
    "\n",
    "* Como prever a saída de uma RNN é um ***problema de classificação***, é utilizado ***cross-entropy*** para calcular a perda.\n",
    "\n",
    "* **Cross-entropy:** $L_{θ}(y,y’)_{t} = -y+{t}\\log{y_{t}'}$, onde $θ = \\{Wh,Wx,Wy\\}$.\n",
    "\n",
    "## Backpropagation through time (BPTT)\n",
    "\n",
    "* A rede precisa ser desenrolada para que seus parâmetros sejam diferenciados pela rede respeitando o ***time step***.\n",
    "\n",
    "* Como a rede pega uma palavra por vez, o cálculo da perda é baseado por cada palavra.\n",
    "\n",
    "<img src=\"figs/Backpropagation.png\" width=\"400\" title=\"https://neptune.ai/blog/recurrent-neural-network-guide\"/>"
   ]
  },
  {
   "cell_type": "markdown",
   "metadata": {},
   "source": [
    "# Problemas com as RNNs"
   ]
  },
  {
   "cell_type": "markdown",
   "metadata": {},
   "source": [
    "* As aplicações de RNN utilizam o contexto (entradas anteriores $x_{0}$, $x_{1}$, ...) para executar sua tarefa.\n",
    "\n",
    "<img src=\"figs/RNN-shorttermdepdencies.png\" width=\"500\" title=\"http://colah.github.io/posts/2015-08-Understanding-LSTMs/\"/>\n",
    "\n",
    "* Quanto maior a distância entre o contexto ($x_{0}$, $x_{1}$, ...) e a saída ($h_{t+1}$), mais difícil será para a RNN conectar a informação necessária.\n",
    "\n",
    "<img src=\"figs/RNN-longtermdependencies.png\" width=\"600\" title=\"http://colah.github.io/posts/2015-08-Understanding-LSTMs/\"/>"
   ]
  },
  {
   "cell_type": "markdown",
   "metadata": {},
   "source": [
    "## Problemas com gradientes\n",
    "\n",
    "###  Vanishing gradients\n",
    "\n",
    "* Cada unidade de neurônio na rede participa do cálculo da saída, assim todos devem ter seus parâmetros atualizados a fim de minimizar os erros, voltando em todos os ***time step**.\n",
    "\n",
    "* O vetor contextual e os parâmetros da hiden state é compartilhado por toda rede a fim de preservar a continuidade da sequência.\n",
    "\n",
    "* No inicio do treinamento, o parâmetro é inicializado com um número aleatório próximo a zero.\n",
    "\n",
    "* Com o ***hiden state***  sendo multiplicado por si próprio enquanto avança o ***time step***, o gradiente $W_{h}$ se torna tão pequeno e tende a zero.\n",
    "\n",
    "* Quando menor o gradiente, mais difpicil será para a rede atualizar seus pesos, e se o gradiente for zero, os pesos para de ser atualizados.\n",
    "\n",
    "* Com o gradiente tendendo a zero de forma exponencialmente rápida, faz com que a rede tenha dificuldades em aprender com informações muito distantes.\n",
    "\n",
    "### Exploding gradients\n",
    "\n",
    "* Ocore no processo de ***backpropagation*** quando gradientes altos são acumulados devido a um processo instável, resultando em atualizações muito grandes nos parâmetros."
   ]
  },
  {
   "cell_type": "markdown",
   "metadata": {},
   "source": [
    "# Long Short Term Memory (LSTM)"
   ]
  },
  {
   "cell_type": "markdown",
   "metadata": {},
   "source": [
    "* São criadas na intenção de preservar informações contextuais de longa distância, perdidas em RNN tradicionais devido aos ***problemas com gradientes***.\n",
    "\n",
    "* Ao envés de terem apenas uma camada de rede neural, LSTMs possuem quatro, interagindo de forma que preservem contextos distantes.\n",
    "\n",
    "<img src=\"figs/Long-Short-Term-Memory.png\" width=\"500\" title=\"https://neptune.ai/blog/recurrent-neural-network-guide\"/>"
   ]
  },
  {
   "cell_type": "markdown",
   "metadata": {},
   "source": [
    "## Funcionamento da LSTM"
   ]
  },
  {
   "cell_type": "markdown",
   "metadata": {},
   "source": [
    "##### ***Cell state:***\n",
    "\n",
    "* É a parte ***long-term memory***, denotada por $C_{t-1}$ e recursiva.\n",
    "\n",
    "* Permite que informações anteriores sejam armazenadas na rede LSTM.\n",
    "\n",
    "* É modulada internamente por *gates* denominados ***forget gate*** e ***input gate***.\n",
    "\n",
    "<img src=\"figs/LSTM-network-1.png\" width=\"400\" title=\"https://neptune.ai/blog/recurrent-neural-network-guide\"/>"
   ]
  },
  {
   "cell_type": "markdown",
   "metadata": {},
   "source": [
    "##### ***Forget Gate:***\n",
    "\n",
    "* É responsável por decidir qual informação será preservada e qual será esquecida.\n",
    "\n",
    "* Seu funcionamento é através da ***função sigmoid***.\n",
    "\n",
    "* Olha o estado inicial em $h_{t-1}$ e $x_{t}$ e retorna um número entre 0 e 1 para cada ***cell state*** $C_{t-1}$.\n",
    "\n",
    "* Se a informação retornada for 1, ele guarda a informação, e se retornar 0, ele apaga.\n",
    "\n",
    "<img src=\"figs/LSTM-network-2.png\" width=\"500\" title=\"https://neptune.ai/blog/recurrent-neural-network-guide\"/>"
   ]
  },
  {
   "cell_type": "markdown",
   "metadata": {},
   "source": [
    "##### ***Input gate:***\n",
    "\n",
    "* Pega a mesma entrada $x_{t} do estado inicial $h_{t-1}$.\n",
    "\n",
    "* Passa por duas ***funções de ativação***: ***sigmoid*** e ***tanh***.\n",
    "\n",
    "* O retorno se torna candidato para $C_{t}$.\n",
    "\n",
    "* Assim, ajuda o ***cell state*** salvar novas informações e atuaizar de $C_{t-1}$ à $C_{t}$.\n",
    "\n",
    "<img src=\"figs/LSTM-network-3.png\" width=\"500\" title=\"https://neptune.ai/blog/recurrent-neural-network-guide\"/>\n"
   ]
  },
  {
   "cell_type": "markdown",
   "metadata": {},
   "source": [
    "##### ***Output gate:***\n",
    "\n",
    "* É baseado no ***cell state*** $C_{t}$, o ***hiden state*** inicial $h_{t-1}$ e a entrada $x_{t}$.\n",
    "\n",
    "* $h_{t-1}$ e $x_{t}$ são passados pela ***sigmoid***, com retorno entre 0 e 1.\n",
    "\n",
    "* Simultaneamente, $C_{t}$ é passado pela ***tanh***, com retorno entre -1 e 1.\n",
    "\n",
    "* A informação passada para o próximo ***hiden state*** é a multiplicação dos retornos das ***funções de ativação*** calculadas.\n",
    "\n",
    "<img src=\"figs/LSTM-network-4.png\" width=\"500\" title=\"https://neptune.ai/blog/recurrent-neural-network-guide\"/>"
   ]
  },
  {
   "cell_type": "markdown",
   "metadata": {},
   "source": [
    "## Bidirectional LSTM (Bi-LSTM)"
   ]
  },
  {
   "cell_type": "markdown",
   "metadata": {},
   "source": [
    "* Diferente das ***LSTMs*** unidirecionais, permite obter informações sequenciais em ambas direções (passado e futuro do ***time step***).\n",
    "\n",
    "<img src=\"figs/Bi-LSTM.jpg\" width=\"800\" title=\"https://analyticsindiamag.com/complete-guide-to-bidirectional-lstm-with-python-codes/\"/>"
   ]
  },
  {
   "cell_type": "markdown",
   "metadata": {},
   "source": [
    "# Gated Recurrent Unit (GRU)"
   ]
  },
  {
   "cell_type": "markdown",
   "metadata": {},
   "source": [
    "* É uma versão modificada da ***LSTM*** com menor complexidade.\n",
    "\n",
    "* Utilizam ***hiden state*** no lugar de ***cell state*** para tranferir informações.\n",
    "\n",
    "* Possuem dois ***gates***: ***reset gate*** e ***update gate***.\n",
    "\n",
    "* São mais rápidos que as ***LSTM***.\n",
    "\n",
    "<img src=\"figs/Gated-Recurrent-Unit.webp\" width=\"500\" title=\"https://neptune.ai/blog/recurrent-neural-network-guide\"/>"
   ]
  },
  {
   "cell_type": "markdown",
   "metadata": {},
   "source": [
    "##### ***Update gate***:\n",
    "\n",
    "* Seleciona as informações que precisam ser adicionadas e/ou ignoradas\n",
    "\n",
    "##### ***Reset gate***:\n",
    "\n",
    "* Decide o quanto de informações anteriores serão esquecidas"
   ]
  },
  {
   "cell_type": "markdown",
   "metadata": {},
   "source": [
    "# Next word prediction using Bi-LSTM\n",
    "\n",
    "Adaptado de: https://www.kaggle.com/code/ysthehurricane/next-word-prediction-bi-lstm-tutorial-easy-way"
   ]
  },
  {
   "cell_type": "markdown",
   "metadata": {},
   "source": [
    "## Pacotes"
   ]
  },
  {
   "cell_type": "code",
   "execution_count": 1,
   "metadata": {},
   "outputs": [],
   "source": [
    "import pandas as pd\n",
    "import os\n",
    "import numpy as np\n",
    "from tabulate import tabulate\n",
    "import matplotlib.pyplot as plt\n",
    "import tensorflow as tf\n",
    "from tensorflow import keras\n",
    "from tensorflow.keras.preprocessing.sequence import pad_sequences\n",
    "from tensorflow.keras.layers import Embedding, LSTM, Dense, Bidirectional\n",
    "from tensorflow.keras.preprocessing.text import Tokenizer\n",
    "from tensorflow.keras.models import Sequential\n",
    "from tensorflow.keras.optimizers import Adam"
   ]
  },
  {
   "cell_type": "markdown",
   "metadata": {},
   "source": [
    "## Dataset e pré-processamento dos dados"
   ]
  },
  {
   "cell_type": "markdown",
   "metadata": {},
   "source": [
    "* O dataset contèm informações de artigos escolhidos de forma aleatória publicados em 2019.\n",
    "\n",
    "* Os dados utilizados para treinamento serão os títulos desses artigos.\n",
    "\n",
    "* Fonte: https://www.kaggle.com/datasets/dorianlazar/medium-articles-dataset"
   ]
  },
  {
   "cell_type": "code",
   "execution_count": 2,
   "metadata": {},
   "outputs": [
    {
     "data": {
      "text/html": [
       "<div>\n",
       "<style scoped>\n",
       "    .dataframe tbody tr th:only-of-type {\n",
       "        vertical-align: middle;\n",
       "    }\n",
       "\n",
       "    .dataframe tbody tr th {\n",
       "        vertical-align: top;\n",
       "    }\n",
       "\n",
       "    .dataframe thead th {\n",
       "        text-align: right;\n",
       "    }\n",
       "</style>\n",
       "<table border=\"1\" class=\"dataframe\">\n",
       "  <thead>\n",
       "    <tr style=\"text-align: right;\">\n",
       "      <th></th>\n",
       "      <th>id</th>\n",
       "      <th>url</th>\n",
       "      <th>title</th>\n",
       "      <th>subtitle</th>\n",
       "      <th>image</th>\n",
       "      <th>claps</th>\n",
       "      <th>responses</th>\n",
       "      <th>reading_time</th>\n",
       "      <th>publication</th>\n",
       "      <th>date</th>\n",
       "    </tr>\n",
       "  </thead>\n",
       "  <tbody>\n",
       "    <tr>\n",
       "      <th>0</th>\n",
       "      <td>1</td>\n",
       "      <td>https://towardsdatascience.com/a-beginners-gui...</td>\n",
       "      <td>A Beginner’s Guide to Word Embedding with Gens...</td>\n",
       "      <td>NaN</td>\n",
       "      <td>1.png</td>\n",
       "      <td>850</td>\n",
       "      <td>8</td>\n",
       "      <td>8</td>\n",
       "      <td>Towards Data Science</td>\n",
       "      <td>2019-05-30</td>\n",
       "    </tr>\n",
       "    <tr>\n",
       "      <th>1</th>\n",
       "      <td>2</td>\n",
       "      <td>https://towardsdatascience.com/hands-on-graph-...</td>\n",
       "      <td>Hands-on Graph Neural Networks with PyTorch &amp; ...</td>\n",
       "      <td>NaN</td>\n",
       "      <td>2.png</td>\n",
       "      <td>1100</td>\n",
       "      <td>11</td>\n",
       "      <td>9</td>\n",
       "      <td>Towards Data Science</td>\n",
       "      <td>2019-05-30</td>\n",
       "    </tr>\n",
       "    <tr>\n",
       "      <th>2</th>\n",
       "      <td>3</td>\n",
       "      <td>https://towardsdatascience.com/how-to-use-ggpl...</td>\n",
       "      <td>How to Use ggplot2 in Python</td>\n",
       "      <td>A Grammar of Graphics for Python</td>\n",
       "      <td>3.png</td>\n",
       "      <td>767</td>\n",
       "      <td>1</td>\n",
       "      <td>5</td>\n",
       "      <td>Towards Data Science</td>\n",
       "      <td>2019-05-30</td>\n",
       "    </tr>\n",
       "    <tr>\n",
       "      <th>3</th>\n",
       "      <td>4</td>\n",
       "      <td>https://towardsdatascience.com/databricks-how-...</td>\n",
       "      <td>Databricks: How to Save Files in CSV on Your L...</td>\n",
       "      <td>When I work on Python projects dealing…</td>\n",
       "      <td>4.jpeg</td>\n",
       "      <td>354</td>\n",
       "      <td>0</td>\n",
       "      <td>4</td>\n",
       "      <td>Towards Data Science</td>\n",
       "      <td>2019-05-30</td>\n",
       "    </tr>\n",
       "    <tr>\n",
       "      <th>4</th>\n",
       "      <td>5</td>\n",
       "      <td>https://towardsdatascience.com/a-step-by-step-...</td>\n",
       "      <td>A Step-by-Step Implementation of Gradient Desc...</td>\n",
       "      <td>One example of building neural…</td>\n",
       "      <td>5.jpeg</td>\n",
       "      <td>211</td>\n",
       "      <td>3</td>\n",
       "      <td>4</td>\n",
       "      <td>Towards Data Science</td>\n",
       "      <td>2019-05-30</td>\n",
       "    </tr>\n",
       "  </tbody>\n",
       "</table>\n",
       "</div>"
      ],
      "text/plain": [
       "   id                                                url  \\\n",
       "0   1  https://towardsdatascience.com/a-beginners-gui...   \n",
       "1   2  https://towardsdatascience.com/hands-on-graph-...   \n",
       "2   3  https://towardsdatascience.com/how-to-use-ggpl...   \n",
       "3   4  https://towardsdatascience.com/databricks-how-...   \n",
       "4   5  https://towardsdatascience.com/a-step-by-step-...   \n",
       "\n",
       "                                               title  \\\n",
       "0  A Beginner’s Guide to Word Embedding with Gens...   \n",
       "1  Hands-on Graph Neural Networks with PyTorch & ...   \n",
       "2                       How to Use ggplot2 in Python   \n",
       "3  Databricks: How to Save Files in CSV on Your L...   \n",
       "4  A Step-by-Step Implementation of Gradient Desc...   \n",
       "\n",
       "                                  subtitle   image  claps responses  \\\n",
       "0                                      NaN   1.png    850         8   \n",
       "1                                      NaN   2.png   1100        11   \n",
       "2         A Grammar of Graphics for Python   3.png    767         1   \n",
       "3  When I work on Python projects dealing…  4.jpeg    354         0   \n",
       "4          One example of building neural…  5.jpeg    211         3   \n",
       "\n",
       "   reading_time           publication        date  \n",
       "0             8  Towards Data Science  2019-05-30  \n",
       "1             9  Towards Data Science  2019-05-30  \n",
       "2             5  Towards Data Science  2019-05-30  \n",
       "3             4  Towards Data Science  2019-05-30  \n",
       "4             4  Towards Data Science  2019-05-30  "
      ]
     },
     "execution_count": 2,
     "metadata": {},
     "output_type": "execute_result"
    }
   ],
   "source": [
    "medium_data = pd.read_csv('./medium-articles-dataset/medium_data.csv')\n",
    "medium_data.head()"
   ]
  },
  {
   "cell_type": "code",
   "execution_count": 3,
   "metadata": {},
   "outputs": [
    {
     "name": "stdout",
     "output_type": "stream",
     "text": [
      "Número de artigos:  6508\n",
      "Número de atributos:  10\n"
     ]
    }
   ],
   "source": [
    "print(\"Número de artigos: \", medium_data.shape[0])\n",
    "print(\"Número de atributos: \", medium_data.shape[1])"
   ]
  },
  {
   "cell_type": "code",
   "execution_count": 4,
   "metadata": {},
   "outputs": [
    {
     "data": {
      "text/plain": [
       "0       A Beginner’s Guide to Word Embedding with Gens...\n",
       "1       Hands-on Graph Neural Networks with PyTorch & ...\n",
       "2                            How to Use ggplot2 in Python\n",
       "3       Databricks: How to Save Files in CSV on Your L...\n",
       "4       A Step-by-Step Implementation of Gradient Desc...\n",
       "                              ...                        \n",
       "6503    “We” vs “I” — How Should You Talk About Yourse...\n",
       "6504                     How Donald Trump Markets Himself\n",
       "6505        Content and Marketing Beyond Mass Consumption\n",
       "6506    5 Questions All Copywriters Should Ask Clients...\n",
       "6507               How To Write a Good Business Blog Post\n",
       "Name: title, Length: 6508, dtype: object"
      ]
     },
     "execution_count": 4,
     "metadata": {},
     "output_type": "execute_result"
    }
   ],
   "source": [
    "medium_data['title']"
   ]
  },
  {
   "cell_type": "markdown",
   "metadata": {},
   "source": [
    "#### Removendo caracteres e palavras indesejadas nos títulos"
   ]
  },
  {
   "cell_type": "code",
   "execution_count": 5,
   "metadata": {},
   "outputs": [],
   "source": [
    "medium_data['title'] = medium_data['title'].apply(lambda x: x.replace(u'\\xa0',u' '))\n",
    "medium_data['title'] = medium_data['title'].apply(lambda x: x.replace('\\u200a',' '))"
   ]
  },
  {
   "cell_type": "markdown",
   "metadata": {},
   "source": [
    "#### Tokenzation\n",
    "\n",
    "* É o processo de indexar todas as palavras com uma identificação numérica única"
   ]
  },
  {
   "cell_type": "code",
   "execution_count": 6,
   "metadata": {},
   "outputs": [],
   "source": [
    "tokenizer = Tokenizer(oov_token='<oov>')\n",
    "tokenizer.fit_on_texts(medium_data['title'])\n",
    "total_words = len(tokenizer.word_index) + 1"
   ]
  },
  {
   "cell_type": "code",
   "execution_count": 7,
   "metadata": {},
   "outputs": [
    {
     "name": "stdout",
     "output_type": "stream",
     "text": [
      "Número total de palavras:  8238\n",
      "Word          ID\n",
      "----------  ----\n",
      "Artificial   106\n",
      "Neural        81\n",
      "Network      164\n"
     ]
    }
   ],
   "source": [
    "print(\"Número total de palavras: \", total_words)\n",
    "print(tabulate([['Artificial', tokenizer.word_index['artificial']],\n",
    "                ['Neural', tokenizer.word_index['neural']],\n",
    "                ['Network', tokenizer.word_index['network']]], headers=['Word', 'ID']))"
   ]
  },
  {
   "cell_type": "markdown",
   "metadata": {},
   "source": [
    "#### Transformar textos em sequências e gerar modelos ***n-grams***"
   ]
  },
  {
   "cell_type": "code",
   "execution_count": 8,
   "metadata": {},
   "outputs": [],
   "source": [
    "input_sequences = []\n",
    "for line in medium_data['title']:\n",
    "    token_list = tokenizer.texts_to_sequences([line])[0]\n",
    "    for i in range(1, len(token_list)):\n",
    "        n_gram_sequence = token_list[:i+1]\n",
    "        input_sequences.append(n_gram_sequence)\n"
   ]
  },
  {
   "cell_type": "code",
   "execution_count": 9,
   "metadata": {},
   "outputs": [
    {
     "name": "stdout",
     "output_type": "stream",
     "text": [
      "Número de sequências de entrada:  48461\n"
     ]
    }
   ],
   "source": [
    "print(\"Número de sequências de entrada: \", len(input_sequences))"
   ]
  },
  {
   "cell_type": "markdown",
   "metadata": {},
   "source": [
    "#### Padronizar sequências para terem o mesmo tamanho usando ***padding***"
   ]
  },
  {
   "cell_type": "code",
   "execution_count": 10,
   "metadata": {},
   "outputs": [
    {
     "data": {
      "text/plain": [
       "array([  0,   0,   0,   0,   0,   0,   0,   0,   0,   0,   0,   0,   0,\n",
       "         0,   0,   0,   0,   0,   0,   0,   0,   0,   0,   0,   0,   0,\n",
       "         0,   0,   0,   0,   0,   0,   0,   0,   0,   0,   0,   5, 676,\n",
       "        68], dtype=int32)"
      ]
     },
     "execution_count": 10,
     "metadata": {},
     "output_type": "execute_result"
    }
   ],
   "source": [
    "max_sequence_len = max([len(x) for x in input_sequences])\n",
    "input_sequences = np.array(pad_sequences(input_sequences, maxlen=max_sequence_len, padding='pre'))\n",
    "input_sequences[1]"
   ]
  },
  {
   "cell_type": "markdown",
   "metadata": {},
   "source": [
    "## Rotular e preparar dados de treinamento"
   ]
  },
  {
   "cell_type": "code",
   "execution_count": 11,
   "metadata": {},
   "outputs": [],
   "source": [
    "xs, labels = input_sequences[:,:-1],input_sequences[:,-1]\n",
    "ys = tf.keras.utils.to_categorical(labels, num_classes=total_words)"
   ]
  },
  {
   "cell_type": "markdown",
   "metadata": {},
   "source": [
    "## Definição e compilação do modelo"
   ]
  },
  {
   "cell_type": "code",
   "execution_count": 12,
   "metadata": {},
   "outputs": [
    {
     "name": "stderr",
     "output_type": "stream",
     "text": [
      "2022-08-15 09:13:58.346208: I tensorflow/stream_executor/cuda/cuda_gpu_executor.cc:975] successful NUMA node read from SysFS had negative value (-1), but there must be at least one NUMA node, so returning NUMA node zero\n",
      "2022-08-15 09:13:58.376170: I tensorflow/stream_executor/cuda/cuda_gpu_executor.cc:975] successful NUMA node read from SysFS had negative value (-1), but there must be at least one NUMA node, so returning NUMA node zero\n",
      "2022-08-15 09:13:58.376305: I tensorflow/stream_executor/cuda/cuda_gpu_executor.cc:975] successful NUMA node read from SysFS had negative value (-1), but there must be at least one NUMA node, so returning NUMA node zero\n",
      "2022-08-15 09:13:58.376886: I tensorflow/core/platform/cpu_feature_guard.cc:193] This TensorFlow binary is optimized with oneAPI Deep Neural Network Library (oneDNN) to use the following CPU instructions in performance-critical operations:  AVX2 FMA\n",
      "To enable them in other operations, rebuild TensorFlow with the appropriate compiler flags.\n",
      "2022-08-15 09:13:58.377837: I tensorflow/stream_executor/cuda/cuda_gpu_executor.cc:975] successful NUMA node read from SysFS had negative value (-1), but there must be at least one NUMA node, so returning NUMA node zero\n",
      "2022-08-15 09:13:58.377945: I tensorflow/stream_executor/cuda/cuda_gpu_executor.cc:975] successful NUMA node read from SysFS had negative value (-1), but there must be at least one NUMA node, so returning NUMA node zero\n",
      "2022-08-15 09:13:58.378025: I tensorflow/stream_executor/cuda/cuda_gpu_executor.cc:975] successful NUMA node read from SysFS had negative value (-1), but there must be at least one NUMA node, so returning NUMA node zero\n",
      "2022-08-15 09:13:58.687975: I tensorflow/stream_executor/cuda/cuda_gpu_executor.cc:975] successful NUMA node read from SysFS had negative value (-1), but there must be at least one NUMA node, so returning NUMA node zero\n",
      "2022-08-15 09:13:58.688136: I tensorflow/stream_executor/cuda/cuda_gpu_executor.cc:975] successful NUMA node read from SysFS had negative value (-1), but there must be at least one NUMA node, so returning NUMA node zero\n",
      "2022-08-15 09:13:58.688217: I tensorflow/stream_executor/cuda/cuda_gpu_executor.cc:975] successful NUMA node read from SysFS had negative value (-1), but there must be at least one NUMA node, so returning NUMA node zero\n",
      "2022-08-15 09:13:58.688287: I tensorflow/core/common_runtime/gpu/gpu_device.cc:1532] Created device /job:localhost/replica:0/task:0/device:GPU:0 with 22072 MB memory:  -> device: 0, name: NVIDIA GeForce RTX 3090, pci bus id: 0000:01:00.0, compute capability: 8.6\n"
     ]
    }
   ],
   "source": [
    "model = Sequential()\n",
    "model.add(Embedding(total_words, 100, input_length=max_sequence_len-1))\n",
    "model.add(Bidirectional(LSTM(150)))\n",
    "model.add(Dense(total_words, activation='softmax'))\n",
    "adam = Adam(learning_rate=0.01)"
   ]
  },
  {
   "cell_type": "code",
   "execution_count": 13,
   "metadata": {},
   "outputs": [],
   "source": [
    "model.compile(loss='categorical_crossentropy', optimizer=adam, metrics=['accuracy'])"
   ]
  },
  {
   "cell_type": "markdown",
   "metadata": {},
   "source": [
    "## Treinamento do modelo"
   ]
  },
  {
   "cell_type": "code",
   "execution_count": 14,
   "metadata": {},
   "outputs": [
    {
     "name": "stdout",
     "output_type": "stream",
     "text": [
      "Epoch 1/50\n",
      "   1/1515 [..............................] - ETA: 1:00:23 - loss: 9.0166 - accuracy: 0.0000e+00"
     ]
    },
    {
     "name": "stderr",
     "output_type": "stream",
     "text": [
      "2022-08-15 09:14:43.335709: I tensorflow/stream_executor/cuda/cuda_dnn.cc:384] Loaded cuDNN version 8401\n",
      "2022-08-15 09:14:43.418107: I tensorflow/stream_executor/cuda/cuda_blas.cc:1786] TensorFloat-32 will be used for the matrix multiplication. This will only be logged once.\n"
     ]
    },
    {
     "name": "stdout",
     "output_type": "stream",
     "text": [
      "1515/1515 [==============================] - 11s 6ms/step - loss: 6.7863 - accuracy: 0.1239\n",
      "Epoch 2/50\n",
      "1515/1515 [==============================] - 9s 6ms/step - loss: 5.8081 - accuracy: 0.1763\n",
      "Epoch 3/50\n",
      "1515/1515 [==============================] - 9s 6ms/step - loss: 4.9853 - accuracy: 0.2017\n",
      "Epoch 4/50\n",
      "1515/1515 [==============================] - 9s 6ms/step - loss: 4.2160 - accuracy: 0.2476\n",
      "Epoch 5/50\n",
      "1515/1515 [==============================] - 9s 6ms/step - loss: 3.6464 - accuracy: 0.2998\n",
      "Epoch 6/50\n",
      "1515/1515 [==============================] - 9s 6ms/step - loss: 3.2778 - accuracy: 0.3396\n",
      "Epoch 7/50\n",
      "1515/1515 [==============================] - 9s 6ms/step - loss: 3.0243 - accuracy: 0.3714\n",
      "Epoch 8/50\n",
      "1515/1515 [==============================] - 9s 6ms/step - loss: 2.8868 - accuracy: 0.3908\n",
      "Epoch 9/50\n",
      "1515/1515 [==============================] - 9s 6ms/step - loss: 2.7081 - accuracy: 0.4153\n",
      "Epoch 10/50\n",
      "1515/1515 [==============================] - 9s 6ms/step - loss: 2.6059 - accuracy: 0.4308\n",
      "Epoch 11/50\n",
      "1515/1515 [==============================] - 9s 6ms/step - loss: 2.5349 - accuracy: 0.4379\n",
      "Epoch 12/50\n",
      "1515/1515 [==============================] - 9s 6ms/step - loss: 2.4500 - accuracy: 0.4545\n",
      "Epoch 13/50\n",
      "1515/1515 [==============================] - 9s 6ms/step - loss: 2.4140 - accuracy: 0.4599\n",
      "Epoch 14/50\n",
      "1515/1515 [==============================] - 9s 6ms/step - loss: 2.3759 - accuracy: 0.4674\n",
      "Epoch 15/50\n",
      "1515/1515 [==============================] - 9s 6ms/step - loss: 2.3371 - accuracy: 0.4723\n",
      "Epoch 16/50\n",
      "1515/1515 [==============================] - 9s 6ms/step - loss: 2.3004 - accuracy: 0.4796\n",
      "Epoch 17/50\n",
      "1515/1515 [==============================] - 9s 6ms/step - loss: 2.2644 - accuracy: 0.4878\n",
      "Epoch 18/50\n",
      "1515/1515 [==============================] - 9s 6ms/step - loss: 2.2358 - accuracy: 0.4927\n",
      "Epoch 19/50\n",
      "1515/1515 [==============================] - 9s 6ms/step - loss: 2.2174 - accuracy: 0.4952\n",
      "Epoch 20/50\n",
      "1515/1515 [==============================] - 9s 6ms/step - loss: 2.1906 - accuracy: 0.5023\n",
      "Epoch 21/50\n",
      "1515/1515 [==============================] - 9s 6ms/step - loss: 2.1903 - accuracy: 0.5013\n",
      "Epoch 22/50\n",
      "1515/1515 [==============================] - 9s 6ms/step - loss: 2.2544 - accuracy: 0.4936\n",
      "Epoch 23/50\n",
      "1515/1515 [==============================] - 9s 6ms/step - loss: 2.2151 - accuracy: 0.4977\n",
      "Epoch 24/50\n",
      "1515/1515 [==============================] - 9s 6ms/step - loss: 2.1662 - accuracy: 0.5071\n",
      "Epoch 25/50\n",
      "1515/1515 [==============================] - 9s 6ms/step - loss: 2.1608 - accuracy: 0.5119\n",
      "Epoch 26/50\n",
      "1515/1515 [==============================] - 9s 6ms/step - loss: 2.1726 - accuracy: 0.5075\n",
      "Epoch 27/50\n",
      "1515/1515 [==============================] - 9s 6ms/step - loss: 2.1682 - accuracy: 0.5106\n",
      "Epoch 28/50\n",
      "1515/1515 [==============================] - 9s 6ms/step - loss: 2.1255 - accuracy: 0.5177\n",
      "Epoch 29/50\n",
      "1515/1515 [==============================] - 9s 6ms/step - loss: 2.1196 - accuracy: 0.5157\n",
      "Epoch 30/50\n",
      "1515/1515 [==============================] - 9s 6ms/step - loss: 2.1145 - accuracy: 0.5171\n",
      "Epoch 31/50\n",
      "1515/1515 [==============================] - 9s 6ms/step - loss: 2.1165 - accuracy: 0.5187\n",
      "Epoch 32/50\n",
      "1515/1515 [==============================] - 9s 6ms/step - loss: 2.1087 - accuracy: 0.5216\n",
      "Epoch 33/50\n",
      "1515/1515 [==============================] - 9s 6ms/step - loss: 2.1193 - accuracy: 0.5216\n",
      "Epoch 34/50\n",
      "1515/1515 [==============================] - 9s 6ms/step - loss: 2.1271 - accuracy: 0.5218\n",
      "Epoch 35/50\n",
      "1515/1515 [==============================] - 9s 6ms/step - loss: 2.1213 - accuracy: 0.5206\n",
      "Epoch 36/50\n",
      "1515/1515 [==============================] - 9s 6ms/step - loss: 2.1251 - accuracy: 0.5235\n",
      "Epoch 37/50\n",
      "1515/1515 [==============================] - 9s 6ms/step - loss: 2.1142 - accuracy: 0.5259\n",
      "Epoch 38/50\n",
      "1515/1515 [==============================] - 9s 6ms/step - loss: 2.0659 - accuracy: 0.5314\n",
      "Epoch 39/50\n",
      "1515/1515 [==============================] - 9s 6ms/step - loss: 2.0435 - accuracy: 0.5366\n",
      "Epoch 40/50\n",
      "1515/1515 [==============================] - 9s 6ms/step - loss: 2.0650 - accuracy: 0.5320\n",
      "Epoch 41/50\n",
      "1515/1515 [==============================] - 9s 6ms/step - loss: 2.0603 - accuracy: 0.5342\n",
      "Epoch 42/50\n",
      "1515/1515 [==============================] - 9s 6ms/step - loss: 2.0359 - accuracy: 0.5392\n",
      "Epoch 43/50\n",
      "1515/1515 [==============================] - 9s 6ms/step - loss: 2.0060 - accuracy: 0.5440\n",
      "Epoch 44/50\n",
      "1515/1515 [==============================] - 9s 6ms/step - loss: 2.0292 - accuracy: 0.5437\n",
      "Epoch 45/50\n",
      "1515/1515 [==============================] - 9s 6ms/step - loss: 2.0498 - accuracy: 0.5412\n",
      "Epoch 46/50\n",
      "1515/1515 [==============================] - 9s 6ms/step - loss: 2.1015 - accuracy: 0.5343\n",
      "Epoch 47/50\n",
      "1515/1515 [==============================] - 9s 6ms/step - loss: 2.0128 - accuracy: 0.5424\n",
      "Epoch 48/50\n",
      "1515/1515 [==============================] - 9s 6ms/step - loss: 2.0084 - accuracy: 0.5455\n",
      "Epoch 49/50\n",
      "1515/1515 [==============================] - 9s 6ms/step - loss: 2.0447 - accuracy: 0.5432\n",
      "Epoch 50/50\n",
      "1515/1515 [==============================] - 9s 6ms/step - loss: 2.0198 - accuracy: 0.5472\n"
     ]
    }
   ],
   "source": [
    "history = model.fit(xs, ys, epochs=50, verbose=1)"
   ]
  },
  {
   "cell_type": "markdown",
   "metadata": {},
   "source": [
    "## Estatísticas do treinamento"
   ]
  },
  {
   "cell_type": "code",
   "execution_count": 15,
   "metadata": {},
   "outputs": [],
   "source": [
    "def plot_graphs(history, string):\n",
    "    plt.plot(history.history[string])\n",
    "    plt.xlabel(\"Epochs\")\n",
    "    plt.ylabel(string)\n",
    "    plt.show()"
   ]
  },
  {
   "cell_type": "markdown",
   "metadata": {},
   "source": [
    "##### ***accuracy:***"
   ]
  },
  {
   "cell_type": "code",
   "execution_count": 16,
   "metadata": {},
   "outputs": [
    {
     "data": {
      "image/png": "[encoded data removed]",
      "text/plain": [
       "<Figure size 432x288 with 1 Axes>"
      ]
     },
     "metadata": {
      "needs_background": "light"
     },
     "output_type": "display_data"
    }
   ],
   "source": [
    "plot_graphs(history, 'accuracy')"
   ]
  },
  {
   "cell_type": "markdown",
   "metadata": {},
   "source": [
    "##### ***loss:***"
   ]
  },
  {
   "cell_type": "code",
   "execution_count": 17,
   "metadata": {},
   "outputs": [
    {
     "data": {
      "image/png": "[encoded data removed]",
      "text/plain": [
       "<Figure size 432x288 with 1 Axes>"
      ]
     },
     "metadata": {
      "needs_background": "light"
     },
     "output_type": "display_data"
    }
   ],
   "source": [
    "plot_graphs(history, 'loss')"
   ]
  },
  {
   "cell_type": "markdown",
   "metadata": {},
   "source": [
    "## Salvar modelo"
   ]
  },
  {
   "cell_type": "code",
   "execution_count": 18,
   "metadata": {},
   "outputs": [
    {
     "name": "stderr",
     "output_type": "stream",
     "text": [
      "WARNING:absl:Found untraced functions such as lstm_cell_1_layer_call_fn, lstm_cell_1_layer_call_and_return_conditional_losses, lstm_cell_2_layer_call_fn, lstm_cell_2_layer_call_and_return_conditional_losses while saving (showing 4 of 4). These functions will not be directly callable after loading.\n"
     ]
    },
    {
     "name": "stdout",
     "output_type": "stream",
     "text": [
      "INFO:tensorflow:Assets written to: ./medium-articles-model/assets\n"
     ]
    },
    {
     "name": "stderr",
     "output_type": "stream",
     "text": [
      "INFO:tensorflow:Assets written to: ./medium-articles-model/assets\n"
     ]
    }
   ],
   "source": [
    "model.save('./medium-articles-model')"
   ]
  },
  {
   "cell_type": "markdown",
   "metadata": {},
   "source": [
    "## Carregar modelo"
   ]
  },
  {
   "cell_type": "code",
   "execution_count": 19,
   "metadata": {},
   "outputs": [],
   "source": [
    "model = keras.models.load_model('./medium-articles-model')"
   ]
  },
  {
   "cell_type": "markdown",
   "metadata": {},
   "source": [
    "## Predizendo a próxima palavra"
   ]
  },
  {
   "cell_type": "code",
   "execution_count": 21,
   "metadata": {},
   "outputs": [
    {
     "name": "stdout",
     "output_type": "stream",
     "text": [
      "Entrada: This is a study in recurrent ___ ___\n",
      "Predição: This is a study in recurrent neural networks\n"
     ]
    }
   ],
   "source": [
    "input_sentence = input()\n",
    "predicted_sentence = input_sentence\n",
    "\n",
    "next_words = 2\n",
    "\n",
    "for _ in range(next_words):\n",
    "    token_list = tokenizer.texts_to_sequences([predicted_sentence])[0]\n",
    "    token_list = pad_sequences([token_list], maxlen=max_sequence_len-1, padding='pre')\n",
    "    predicted = tokenizer.index_word[np.argmax(model.predict(token_list, verbose=0))]\n",
    "    predicted_sentence += \" \" + predicted\n",
    "\n",
    "output = \"Entrada: \" + input_sentence\n",
    "for _ in range(next_words):\n",
    "    output += \" ___\"\n",
    "print(output)\n",
    "print(\"Predição: \" + predicted_sentence)"
   ]
  },
  {
   "cell_type": "markdown",
   "metadata": {},
   "source": [
    "# Referências\n",
    "\n",
    "- https://neptune.ai/blog/recurrent-neural-network-guide\n",
    "\n",
    "- https://www.analyticsvidhya.com/blog/2021/07/in-depth-explanation-of-recurrent-neural-network/\n",
    "\n",
    "- http://colah.github.io/posts/2015-08-Understanding-LSTMs/\n",
    "\n",
    "- http://karpathy.github.io/2015/05/21/rnn-effectiveness/\n",
    "\n",
    "- https://analyticsindiamag.com/lstm-vs-gru-in-recurrent-neural-network-a-comparative-study/\n",
    "\n",
    "- https://www.tensorflow.org/guide/keras/rnn\n",
    "\n",
    "- https://www.kaggle.com/code/ysthehurricane/next-word-prediction-bi-lstm-tutorial-easy-way\n",
    "\n",
    "- https://analyticsindiamag.com/complete-guide-to-bidirectional-lstm-with-python-codes/"
   ]
  }
 ],
 "metadata": {
  "kernelspec": {
   "display_name": "Python 3.10.4 64-bit",
   "language": "python",
   "name": "python3"
  },
  "language_info": {
   "codemirror_mode": {
    "name": "ipython",
    "version": 3
   },
   "file_extension": ".py",
   "mimetype": "text/x-python",
   "name": "python",
   "nbconvert_exporter": "python",
   "pygments_lexer": "ipython3",
   "version": "3.10.4"
  },
  "orig_nbformat": 4,
  "vscode": {
   "interpreter": {
    "hash": "31f2aee4e71d21fbe5cf8b01ff0e069b9275f58929596ceb00d14d90e3e16cd6"
   }
  }
 },
 "nbformat": 4,
 "nbformat_minor": 2
}
